{
 "cells": [
  {
   "cell_type": "code",
   "execution_count": 2,
   "metadata": {},
   "outputs": [],
   "source": [
    "import numpy as np\n",
    "import pandas as pd\n",
    "from pandas import Series,DataFrame"
   ]
  },
  {
   "cell_type": "code",
   "execution_count": 4,
   "metadata": {},
   "outputs": [
    {
     "name": "stdout",
     "output_type": "stream",
     "text": [
      "   Quarters       Revenue\n",
      "0  Quarter1  2.340034e+07\n",
      "1  Quarter2  5.436374e+07\n",
      "2  Quarter3  5.678912e+07\n",
      "3  Quarter4  4.132455e+06\n"
     ]
    }
   ],
   "source": [
    "d = {'Quarters' : ['Quarter1','Quarter2','Quarter3','Quarter4'],\n",
    "     'Revenue':[23400344.567,54363744.678,56789117.456,4132454.987]}\n",
    "df=pd.DataFrame(d)\n",
    "print(df)"
   ]
  },
  {
   "cell_type": "code",
   "execution_count": 7,
   "metadata": {},
   "outputs": [
    {
     "name": "stdout",
     "output_type": "stream",
     "text": [
      "   Quarters    Revenue\n",
      "0  Quarter1 23400344.6\n",
      "1  Quarter2 54363744.7\n",
      "2  Quarter3 56789117.5\n",
      "3  Quarter4  4132455.0\n"
     ]
    }
   ],
   "source": [
    "pd.options.display.float_format = '{:.1f}'.format\n",
    "print(df)"
   ]
  },
  {
   "cell_type": "code",
   "execution_count": 10,
   "metadata": {},
   "outputs": [
    {
     "name": "stdout",
     "output_type": "stream",
     "text": [
      "   Quarters        Revenue\n",
      "0  Quarter1 $23,400,344.57\n",
      "1  Quarter2 $54,363,744.68\n",
      "2  Quarter3 $56,789,117.46\n",
      "3  Quarter4  $4,132,454.99\n"
     ]
    }
   ],
   "source": [
    "pd.options.display.float_format = '${:,.2f}'.format\n",
    "print(df)"
   ]
  },
  {
   "cell_type": "code",
   "execution_count": 11,
   "metadata": {},
   "outputs": [
    {
     "name": "stdout",
     "output_type": "stream",
     "text": [
      "   Quarters  Revenue\n",
      "0  Quarter1 2.34E+07\n",
      "1  Quarter2 5.44E+07\n",
      "2  Quarter3 5.68E+07\n",
      "3  Quarter4 4.13E+06\n"
     ]
    }
   ],
   "source": [
    "# Format with Scientific notation\n",
    "pd.options.display.float_format = '{:.2E}'.format\n",
    "print(df)"
   ]
  },
  {
   "cell_type": "code",
   "execution_count": 16,
   "metadata": {},
   "outputs": [
    {
     "name": "stdout",
     "output_type": "stream",
     "text": [
      "         Name  Age  Score\n",
      "0        Raja   26     89\n",
      "1     pradeep   27     87\n",
      "2    Cathrine   25     67\n",
      "3     Madonna   24     55\n",
      "4       Rocky   31     47\n",
      "5   Sebastian   27     72\n",
      "6    Jaqluine   25     76\n",
      "7        Siva   33     79\n",
      "8       David   42     44\n",
      "9      Daniel   32     92\n",
      "10     akshay   51     99\n",
      "11      Suraj   47     69\n"
     ]
    }
   ],
   "source": [
    "\n",
    " \n",
    "#Create a Dictionary of series\n",
    "d = {'Name':pd.Series(['Raja','pradeep','Cathrine','Madonna','Rocky','Sebastian','Jaqluine',\n",
    "   'Siva','David','Daniel','akshay','Suraj']),\n",
    "   'Age':pd.Series([26,27,25,24,31,27,25,33,42,32,51,47]),\n",
    "   'Score':pd.Series([89,87,67,55,47,72,76,79,44,92,99,69])}\n",
    " \n",
    "#Create a DataFrame\n",
    "df = pd.DataFrame(d)\n",
    "print (df)"
   ]
  },
  {
   "cell_type": "code",
   "execution_count": 14,
   "metadata": {},
   "outputs": [
    {
     "name": "stdout",
     "output_type": "stream",
     "text": [
      "           Age    Score\n",
      "count 1.20E+01 1.20E+01\n",
      "mean  3.25E+01 7.30E+01\n",
      "std   9.21E+00 1.77E+01\n",
      "min   2.40E+01 4.40E+01\n",
      "25%   2.58E+01 6.40E+01\n",
      "50%   2.90E+01 7.40E+01\n",
      "75%   3.52E+01 8.75E+01\n",
      "max   5.10E+01 9.90E+01\n"
     ]
    }
   ],
   "source": [
    "# summary statistics\n",
    " \n",
    "print(df.describe())"
   ]
  },
  {
   "cell_type": "code",
   "execution_count": null,
   "metadata": {},
   "outputs": [],
   "source": []
  },
  {
   "cell_type": "code",
   "execution_count": null,
   "metadata": {},
   "outputs": [],
   "source": []
  },
  {
   "cell_type": "code",
   "execution_count": null,
   "metadata": {},
   "outputs": [],
   "source": []
  },
  {
   "cell_type": "code",
   "execution_count": 2,
   "metadata": {},
   "outputs": [],
   "source": [
    "\n"
   ]
  },
  {
   "cell_type": "code",
   "execution_count": null,
   "metadata": {},
   "outputs": [],
   "source": []
  },
  {
   "cell_type": "code",
   "execution_count": null,
   "metadata": {},
   "outputs": [],
   "source": []
  }
 ],
 "metadata": {
  "kernelspec": {
   "display_name": "Python 3",
   "language": "python",
   "name": "python3"
  },
  "language_info": {
   "codemirror_mode": {
    "name": "ipython",
    "version": 3
   },
   "file_extension": ".py",
   "mimetype": "text/x-python",
   "name": "python",
   "nbconvert_exporter": "python",
   "pygments_lexer": "ipython3",
   "version": "3.7.3"
  }
 },
 "nbformat": 4,
 "nbformat_minor": 2
}
